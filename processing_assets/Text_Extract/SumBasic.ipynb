{
  "nbformat": 4,
  "nbformat_minor": 0,
  "metadata": {
    "colab": {
      "name": "SumBasic.ipynb",
      "provenance": [],
      "collapsed_sections": [],
      "authorship_tag": "ABX9TyOOnfjNIXLmlSVIZrhvEVHX",
      "include_colab_link": true
    },
    "kernelspec": {
      "name": "python3",
      "display_name": "Python 3"
    }
  },
  "cells": [
    {
      "cell_type": "markdown",
      "metadata": {
        "id": "view-in-github",
        "colab_type": "text"
      },
      "source": [
        "<a href=\"https://colab.research.google.com/github/talha1503/Extractive_Text_Summarization/blob/master/SumBasic.ipynb\" target=\"_parent\"><img src=\"https://colab.research.google.com/assets/colab-badge.svg\" alt=\"Open In Colab\"/></a>"
      ]
    },
    {
      "cell_type": "code",
      "metadata": {
        "id": "z9G5P11zLisE",
        "colab_type": "code",
        "colab": {}
      },
      "source": [
        "import numpy as np \n",
        "from nltk.corpus import stopwords\n",
        "from nltk.stem import WordNetLemmatizer\n",
        "from nltk.tokenize import sent_tokenize,word_tokenize\n",
        "from bs4 import BeautifulSoup\n",
        "import requests\n",
        "import re"
      ],
      "execution_count": 0,
      "outputs": []
    },
    {
      "cell_type": "code",
      "metadata": {
        "id": "ZNYXEzqDLrx9",
        "colab_type": "code",
        "outputId": "d9ca6bd4-98ba-4091-dd43-e3032f6d77f4",
        "colab": {
          "base_uri": "https://localhost:8080/",
          "height": 134
        }
      },
      "source": [
        "import nltk\n",
        "nltk.download('wordnet')\n",
        "nltk.download('punkt')\n",
        "nltk.download('stopwords')"
      ],
      "execution_count": 2,
      "outputs": [
        {
          "output_type": "stream",
          "text": [
            "[nltk_data] Downloading package wordnet to /root/nltk_data...\n",
            "[nltk_data]   Unzipping corpora/wordnet.zip.\n",
            "[nltk_data] Downloading package punkt to /root/nltk_data...\n",
            "[nltk_data]   Unzipping tokenizers/punkt.zip.\n",
            "[nltk_data] Downloading package stopwords to /root/nltk_data...\n",
            "[nltk_data]   Unzipping corpora/stopwords.zip.\n"
          ],
          "name": "stdout"
        },
        {
          "output_type": "execute_result",
          "data": {
            "text/plain": [
              "True"
            ]
          },
          "metadata": {
            "tags": []
          },
          "execution_count": 2
        }
      ]
    },
    {
      "cell_type": "code",
      "metadata": {
        "id": "fXyJQD1yLvAf",
        "colab_type": "code",
        "colab": {}
      },
      "source": [
        "def _input(topic):\n",
        "\tarticle = \"\"\n",
        "\tlink = \"https://en.wikipedia.org/wiki/\" + topic.strip() \n",
        "\tpage = requests.get(link)\n",
        "\tcontent = BeautifulSoup(page.content,'html.parser')\n",
        "\tparagraphs = content.find_all('p')\n",
        "\tfor paragraph in paragraphs:\n",
        "\t\tarticle+= paragraph.text+\" \"\n",
        "\treturn article\n"
      ],
      "execution_count": 0,
      "outputs": []
    },
    {
      "cell_type": "code",
      "metadata": {
        "id": "QMlzG6l1L0pK",
        "colab_type": "code",
        "colab": {}
      },
      "source": [
        "def clean(sentences):\n",
        "\tlemmatizer = WordNetLemmatizer()\n",
        "\tcleaned_sentences = []\n",
        "\tfor sentence in sentences:\n",
        "\t\tsentence = sentence.lower()\n",
        "\t\tsentence = re.sub(r'[^a-zA-Z]',' ',sentence)\n",
        "\t\tsentence = sentence.split()\n",
        "\t\tsentence = [lemmatizer.lemmatize(word) for word in sentence if word not in set(stopwords.words('english'))]\n",
        "\t\tsentence = ' '.join(sentence)\n",
        "\t\tcleaned_sentences.append(sentence)\n",
        "\treturn cleaned_sentences"
      ],
      "execution_count": 0,
      "outputs": []
    },
    {
      "cell_type": "code",
      "metadata": {
        "id": "njsyZChlMDQL",
        "colab_type": "code",
        "colab": {}
      },
      "source": [
        "def init_probability(sentences):\n",
        "\tprobability_dict = {}\n",
        "\twords = word_tokenize('. '.join(sentences))\n",
        "\ttotal_words = len(set(words))\n",
        "\tfor word in words:\n",
        "\t\tif word!='.':\n",
        "\t\t\tif not probability_dict.get(word):\n",
        "\t\t\t\tprobability_dict[word] = 1\n",
        "\t\t\telse:\n",
        "\t\t\t\tprobability_dict[word] += 1\n",
        "\n",
        "\tfor word,count in probability_dict.items():\n",
        "\t\tprobability_dict[word] = count/total_words \n",
        "\t\n",
        "\treturn probability_dict"
      ],
      "execution_count": 0,
      "outputs": []
    },
    {
      "cell_type": "code",
      "metadata": {
        "id": "Gcx847gPMF8S",
        "colab_type": "code",
        "colab": {}
      },
      "source": [
        "def update_probability(probability_dict,word):\n",
        "\tif probability_dict.get(word):\n",
        "\t\tprobability_dict[word] = probability_dict[word]**2\n",
        "\treturn probability_dict"
      ],
      "execution_count": 0,
      "outputs": []
    },
    {
      "cell_type": "code",
      "metadata": {
        "id": "E2BF3MeaMOgU",
        "colab_type": "code",
        "colab": {}
      },
      "source": [
        "def average_sentence_weights(sentences,probability_dict):\n",
        "\tsentence_weights = {}\n",
        "\tfor index,sentence in enumerate(sentences):\n",
        "\t\tif len(sentence) != 0:\n",
        "\t\t\taverage_proba = sum([probability_dict[word] for word in sentence if word in probability_dict.keys()])\n",
        "\t\t\taverage_proba /= len(sentence)\n",
        "\t\t\tsentence_weights[index] = average_proba \n",
        "\treturn sentence_weights\n"
      ],
      "execution_count": 0,
      "outputs": []
    },
    {
      "cell_type": "code",
      "metadata": {
        "id": "nzXqF7hWMQTh",
        "colab_type": "code",
        "colab": {}
      },
      "source": [
        "def generate_summary(sentence_weights,probability_dict,cleaned_article,tokenized_article,summary_length = 30):\n",
        "\tsummary = \"\"\n",
        "\tcurrent_length = 0\n",
        "\twhile current_length < summary_length :\n",
        "\t\thighest_probability_word = max(probability_dict,key=probability_dict.get)\n",
        "\t\tsentences_with_max_word= [index for index,sentence in enumerate(cleaned_article) if highest_probability_word in set(word_tokenize(sentence))]\n",
        "\t\tsentence_list = sorted([[index,sentence_weights[index]] for index in sentences_with_max_word],key=lambda x:x[1],reverse=True)\n",
        "\t\tsummary += tokenized_article[sentence_list[0][0]] + \"\\n\"\n",
        "\t\tfor word in word_tokenize(cleaned_article[sentence_list[0][0]]):\n",
        "\t\t\tprobability_dict = update_probability(probability_dict,word)\n",
        "\t\tcurrent_length+=1\n",
        "\treturn summary"
      ],
      "execution_count": 0,
      "outputs": []
    },
    {
      "cell_type": "code",
      "metadata": {
        "id": "fp_63zzsMS0b",
        "colab_type": "code",
        "colab": {}
      },
      "source": [
        "def main():\n",
        "\ttopic = input(\"Enter the title of the wikipedia article to be scraped----->\")\n",
        "\tarticle = _input(topic)\n",
        "\trequired_length = int(input(\"Enter the number of required sentences\"))\n",
        "\ttokenized_article = sent_tokenize(article)\n",
        "\tcleaned_article = clean(tokenized_article) \n",
        "\tprobability_dict = init_probability(cleaned_article)\n",
        "\tsentence_weights = average_sentence_weights(cleaned_article,probability_dict)\n",
        "\tsummary = generate_summary(sentence_weights,probability_dict,cleaned_article,tokenized_article,required_length)\n",
        "\tprint(summary)"
      ],
      "execution_count": 0,
      "outputs": []
    },
    {
      "cell_type": "code",
      "metadata": {
        "id": "MBaXuFyiMVv2",
        "colab_type": "code",
        "outputId": "bc516d62-a86e-4b20-a56f-a725eaa35412",
        "colab": {
          "base_uri": "https://localhost:8080/",
          "height": 185
        }
      },
      "source": [
        "if __name__ == \"__main__\":\n",
        "\tmain()"
      ],
      "execution_count": 12,
      "outputs": [
        {
          "output_type": "stream",
          "text": [
            "Enter the title of the wikipedia article to be scraped----->Github\n",
            "Enter the number of required sentences5\n",
            "[93] On January 10, 2015, GitHub was unblocked.\n",
            "Previously, only public repositories were free.\n",
            "On July 5, 2009, GitHub announced that the site was being harnessed by over 100,000 users.\n",
            "[5] Free GitHub accounts are commonly used to host open source projects.\n",
            "Those services include:\n",
            " Site: https://github.community/\n",
            " GitHub maintains a community forum where users can ask questions publicly or answer questions of other users.\n",
            "\n"
          ],
          "name": "stdout"
        }
      ]
    },
    {
      "cell_type": "code",
      "metadata": {
        "id": "LPuiaLUiMYkc",
        "colab_type": "code",
        "colab": {}
      },
      "source": [
        ""
      ],
      "execution_count": 0,
      "outputs": []
    }
  ]
}